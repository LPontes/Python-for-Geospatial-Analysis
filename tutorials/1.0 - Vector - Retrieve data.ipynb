{
 "cells": [
  {
   "attachments": {},
   "cell_type": "markdown",
   "metadata": {},
   "source": [
    "# Retrieve geospatial vector data\n",
    "## Intro\n",
    "\n",
    "The aim is to test different forms to obtain vector data from official sources. And to build a reference that make's it easier to search geospatial datasets in reliable sources.\n",
    "\n",
    "Learn how to:\n",
    "- Download geospatial data from url using requests.get\n",
    "- Open data directly from url using geopandas\n",
    "\n",
    "## Sources\n",
    "\n",
    "#### Data sets used in this tutorial\n",
    "- LimitesBr: https://geoftp.ibge.gov.br/organizacao_do_territorio/malhas_territoriais/malhas_municipais/municipio_2022/Brasil/BR/BR_Pais_2022.zip\n",
    "\n",
    "- BR_UF_2022: https://geoftp.ibge.gov.br/organizacao_do_territorio/malhas_territoriais/malhas_municipais/municipio_2022/Brasil/BR/BR_UF_2022.zip\n",
    "\n",
    "- Rain_gauges: https://metadados.snirh.gov.br/files/f85dbf06-a869-414c-afc5-bb01869e9156/Estacoes_Fluviometricas_e_Pluviometricas_da_Rede.gpkg\n",
    "\n",
    "#### Other data sources\n",
    "\n",
    "- https://clubedogis.com.br/dados-geoespaciais/?\n",
    "- IBGE\n",
    "    - https://www.ibge.gov.br/geociencias/organizacao-do-territorio/malhas-territoriais/\n",
    "    - https://sidra.ibge.gov.br/home/pog/brasil\n",
    "    - https://analisemacro.com.br/economia/indicadores/coletando-dados-do-sidra-com-o-python/\n",
    "    - https://portaldemapas.ibge.gov.br/portal.php#mapa222600\n",
    "    - https://biblioteca.ibge.gov.br/visualizacao/livros/liv101675.pdf\n",
    "- MMA\n",
    "    - http://mapas.mma.gov.br/i3geo/datadownload.htm\n",
    "- gov.br\n",
    "    - https://dados.gov.br/home\n",
    "- https://github.com/geopandas/geodatasets\n",
    "\n",
    "https://gis.stackexchange.com/questions/460213/how-to-use-geopandas-read-file-with-an-url-to-get-data-from-a-wfs-server\n"
   ]
  }
 ],
 "metadata": {
  "kernelspec": {
   "display_name": "geos",
   "language": "python",
   "name": "python3"
  },
  "language_info": {
   "codemirror_mode": {
    "name": "ipython",
    "version": 3
   },
   "file_extension": ".py",
   "mimetype": "text/x-python",
   "name": "python",
   "nbconvert_exporter": "python",
   "pygments_lexer": "ipython3",
   "version": "3.11.3"
  },
  "orig_nbformat": 4
 },
 "nbformat": 4,
 "nbformat_minor": 2
}
