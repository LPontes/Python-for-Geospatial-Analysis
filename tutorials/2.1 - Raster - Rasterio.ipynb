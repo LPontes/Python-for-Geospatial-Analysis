{
 "cells": [
  {
   "attachments": {},
   "cell_type": "markdown",
   "metadata": {},
   "source": [
    "# Rasterio\n",
    "\n",
    "## Intro\n",
    "\n",
    "## Summary"
   ]
  },
  {
   "attachments": {},
   "cell_type": "markdown",
   "metadata": {},
   "source": [
    "# Setup"
   ]
  },
  {
   "cell_type": "code",
   "execution_count": null,
   "metadata": {},
   "outputs": [],
   "source": [
    "import rasterio as rio"
   ]
  },
  {
   "attachments": {},
   "cell_type": "markdown",
   "metadata": {},
   "source": [
    "# Read and write"
   ]
  },
  {
   "attachments": {},
   "cell_type": "markdown",
   "metadata": {},
   "source": [
    "## Reproject"
   ]
  },
  {
   "attachments": {},
   "cell_type": "markdown",
   "metadata": {},
   "source": [
    "## Mosaic"
   ]
  },
  {
   "attachments": {},
   "cell_type": "markdown",
   "metadata": {},
   "source": [
    "## Clip"
   ]
  },
  {
   "attachments": {},
   "cell_type": "markdown",
   "metadata": {},
   "source": [
    "## Vectorize"
   ]
  },
  {
   "cell_type": "code",
   "execution_count": null,
   "metadata": {},
   "outputs": [],
   "source": [
    "# Função para poligonizar raster\n",
    "def polygonize(raster_file):\n",
    "  img = gdal.Open(raster_file)\n",
    "  dn = img.GetRasterBand(1)\n",
    "  shp_driver = ogr.GetDriverByName(\"ESRI Shapefile\")\n",
    "\n",
    "  shape_out = shp_driver.CreateDataSource('segs.shp')\n",
    "  srs = ogr.osr.SpatialReference()\n",
    "  srs.ImportFromEPSG(32723)\n",
    "  novo_shape = shape_out.CreateLayer('segs.shp', srs = srs)\n",
    "  gdal.Polygonize(dn, None, novo_shape, -1, [], callback=None)\n",
    "  shape_out.Destroy()\n",
    "  return print('Polígonos criados!')"
   ]
  }
 ],
 "metadata": {
  "language_info": {
   "name": "python"
  },
  "orig_nbformat": 4
 },
 "nbformat": 4,
 "nbformat_minor": 2
}
